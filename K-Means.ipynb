{
 "cells": [
  {
   "cell_type": "markdown",
   "metadata": {},
   "source": [
    "<h1> Import </h1>"
   ]
  },
  {
   "cell_type": "code",
   "execution_count": null,
   "metadata": {},
   "outputs": [],
   "source": [
    "from pandas import read_csv\n",
    "from pandas import DataFrame\n",
    "from math import pow,sqrt\n",
    "import numpy as np"
   ]
  },
  {
   "cell_type": "markdown",
   "metadata": {},
   "source": [
    "<h1> Preprocessing </h1>"
   ]
  },
  {
   "cell_type": "code",
   "execution_count": null,
   "metadata": {},
   "outputs": [],
   "source": [
    "cencus = read_csv(\"CencusIncome.csv\", header = None)\n",
    "cencusData = cencus.drop(6, axis = 1)\n",
    "cencusData"
   ]
  },
  {
   "cell_type": "code",
   "execution_count": null,
   "metadata": {},
   "outputs": [],
   "source": [
    "def euclidean_distance(instance1,instance2):\n",
    "#     asumsi jumlah tabel sama\n",
    "    columnCount = len(instance1)\n",
    "    sum = 0\n",
    "    for i in range(columnCount):\n",
    "        sum += pow(instance1[i]-instance2[i],2)\n",
    "    return sqrt(sum)\n",
    "\n",
    "def normalize(v):\n",
    "    norm = np.linalg.norm(v)\n",
    "    if norm == 0: \n",
    "       return v\n",
    "    return v / norm"
   ]
  },
  {
   "cell_type": "code",
   "execution_count": null,
   "metadata": {},
   "outputs": [],
   "source": [
    "# print(euclidean_distance(cencusData.loc[1],cencusData.loc[2]))\n",
    "normalizedData = normalize(cencusData) \n",
    "print(normalizedData)"
   ]
  },
  {
   "cell_type": "code",
   "execution_count": 13,
   "metadata": {},
   "outputs": [
    {
     "name": "stdout",
     "output_type": "stream",
     "text": [
      "0.0033751954849832928\n"
     ]
    }
   ],
   "source": [
    "print(euclidean_distance(normalizedData.loc[1],normalizedData.loc[2]))"
   ]
  },
  {
   "cell_type": "markdown",
   "metadata": {},
   "source": [
    "<h1> Clustering </h1>"
   ]
  },
  {
   "cell_type": "code",
   "execution_count": null,
   "metadata": {},
   "outputs": [],
   "source": [
    "len(normalizedData.index)"
   ]
  },
  {
   "cell_type": "code",
   "execution_count": 199,
   "metadata": {},
   "outputs": [],
   "source": [
    "def classify_k_means(instance, centroids):\n",
    "    rowCount = len(centroids.index)\n",
    "    distances = np.zeros(rowCount)\n",
    "    for index, row in centroids.iterrows():\n",
    "        distances[index] = euclidean_distance(instance,row)\n",
    "    return np.argmax(distances)\n",
    "\n",
    "def k_means(df, k):\n",
    "    rowCount = len(df.index)\n",
    "    colCount = len(df.columns)\n",
    "    pred = np.zeros(rowCount).astype(int)\n",
    "    centroids = df.sample(k)\n",
    "    centroids = centroids.reset_index(drop=True)\n",
    "    prev_centroids = centroids.copy()\n",
    "    centroids[:] = 0.0 #Set all to zero\n",
    "    #Classify Each Row and Sum it\n",
    "    for index, row in df.iterrows():\n",
    "        pred[index] = classify_k_means(row, prev_centroids)\n",
    "        for colIndex in range(0,colCount):\n",
    "            centroids.iat[pred[index], colIndex] += row[colIndex]\n",
    "    return {0: pred,1: centroids}"
   ]
  },
  {
   "cell_type": "code",
   "execution_count": null,
   "metadata": {},
   "outputs": [],
   "source": [
    "tmp = k_means(normalizedData, 2)"
   ]
  },
  {
   "cell_type": "code",
   "execution_count": null,
   "metadata": {},
   "outputs": [],
   "source": []
  }
 ],
 "metadata": {
  "kernelspec": {
   "display_name": "Python 3",
   "language": "python",
   "name": "python3"
  },
  "language_info": {
   "codemirror_mode": {
    "name": "ipython",
    "version": 3
   },
   "file_extension": ".py",
   "mimetype": "text/x-python",
   "name": "python",
   "nbconvert_exporter": "python",
   "pygments_lexer": "ipython3",
   "version": "3.6.2"
  }
 },
 "nbformat": 4,
 "nbformat_minor": 2
}
