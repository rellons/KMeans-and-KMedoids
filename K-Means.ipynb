{
 "cells": [
  {
   "cell_type": "markdown",
   "metadata": {},
   "source": [
    "<h1> Import </h1>"
   ]
  },
  {
   "cell_type": "code",
   "execution_count": null,
   "metadata": {},
   "outputs": [],
   "source": [
    "from pandas import read_csv\n",
    "from pandas import DataFrame\n",
    "from math import pow,sqrt\n",
    "from sklearn import metrics\n",
    "import numpy as np\n",
    "import datetime"
   ]
  },
  {
   "cell_type": "markdown",
   "metadata": {},
   "source": [
    "<p> <b> Train Data </b> is used to search for best parameter / configuration. </p>\n",
    "<p> <b> Test Data </b> is actual testing. </p>"
   ]
  },
  {
   "cell_type": "markdown",
   "metadata": {},
   "source": [
    "<h1> Train Data - Load </h1>"
   ]
  },
  {
   "cell_type": "code",
   "execution_count": null,
   "metadata": {},
   "outputs": [],
   "source": [
    "trainData = read_csv(\"CencusIncome.csv\", header = None)\n",
    "trainLabel = trainData.loc[:,6]\n",
    "trainLabel, trainLabelLevel = trainLabel.factorize()\n",
    "trainData = trainData.drop(6, axis = 1)"
   ]
  },
  {
   "cell_type": "markdown",
   "metadata": {},
   "source": [
    "<h1> Train Data - Preprocessing </h1>"
   ]
  },
  {
   "cell_type": "code",
   "execution_count": null,
   "metadata": {},
   "outputs": [],
   "source": [
    "def euclidean_distance(instance1,instance2):\n",
    "    columnCount = len(instance1)\n",
    "    sum = 0\n",
    "    for i in range(columnCount):\n",
    "        sum += pow(instance1[i]-instance2[i],2)\n",
    "    return sqrt(sum)\n",
    "\n",
    "def normalize(v):\n",
    "    norm = np.linalg.norm(v,ord=None)\n",
    "    if norm == 0: \n",
    "       return v\n",
    "    return v / norm"
   ]
  },
  {
   "cell_type": "code",
   "execution_count": null,
   "metadata": {},
   "outputs": [],
   "source": [
    "normalizedTrain = normalize(trainData) \n",
    "print(normalizedTrain)"
   ]
  },
  {
   "cell_type": "code",
   "execution_count": null,
   "metadata": {},
   "outputs": [],
   "source": [
    "len(normalizedTrain.index)"
   ]
  },
  {
   "cell_type": "markdown",
   "metadata": {},
   "source": [
    "<h1> Training - Running </h1>"
   ]
  },
  {
   "cell_type": "code",
   "execution_count": null,
   "metadata": {},
   "outputs": [],
   "source": [
    "def classify_k_means(instance, centroids):\n",
    "    rowCount = len(centroids.index)\n",
    "    distances = np.zeros(rowCount)\n",
    "    for index, row in centroids.iterrows():\n",
    "        distances[index] = euclidean_distance(instance,row)\n",
    "    return np.argmin(distances)\n",
    "\n",
    "def k_means(df, k):\n",
    "    rowCount = len(df.index)\n",
    "    colCount = len(df.columns)\n",
    "    centroids = df.sample(k)\n",
    "    centroids = centroids.reset_index(drop=True)\n",
    "    isConvergence = False;\n",
    "    i = 0\n",
    "    \n",
    "    while (not isConvergence):\n",
    "        print()\n",
    "        print(i)\n",
    "        print(datetime.datetime.now())\n",
    "        prev_centroids = centroids.copy()\n",
    "        centroids[:] = 0.0 #Set all to zero\n",
    "        pred = np.zeros(rowCount).astype(int)\n",
    "        countLabel = np.zeros(k).astype(int)\n",
    "        #Classify Each Row and Sum it\n",
    "        for index, row in df.iterrows():\n",
    "            pred[index] = classify_k_means(row, prev_centroids)\n",
    "            countLabel[pred[index]] += 1\n",
    "            for colIndex in range(0,colCount):\n",
    "                centroids.iat[pred[index], colIndex] += row[colIndex]\n",
    "        #Get new centroids (means)\n",
    "        for labelIndex in range(0,k):\n",
    "            for colIndex in range(0,colCount):\n",
    "                centroids.iat[labelIndex, colIndex] /= countLabel[labelIndex]\n",
    "        #Check convergence by comparing centroids\n",
    "        convergeCheck = np.isclose(prev_centroids, centroids)\n",
    "        print(prev_centroids)\n",
    "        print(centroids)\n",
    "        print(countLabel)\n",
    "        if (convergeCheck.all()):\n",
    "            isConvergence = True\n",
    "        i+=1\n",
    "    return {\"prediction\": pred,\"centroids\": centroids}"
   ]
  },
  {
   "cell_type": "code",
   "execution_count": null,
   "metadata": {},
   "outputs": [],
   "source": [
    "trainResult = k_means(normalizedTrain, 2)"
   ]
  },
  {
   "cell_type": "markdown",
   "metadata": {},
   "source": [
    "<h1> Train Data - Prepare Prediction Result </h1>"
   ]
  },
  {
   "cell_type": "code",
   "execution_count": null,
   "metadata": {},
   "outputs": [],
   "source": [
    "predictedTrainLabel, predictedTrainLabelLevel = DataFrame(trainResult[\"prediction\"])[0].factorize()"
   ]
  },
  {
   "cell_type": "markdown",
   "metadata": {},
   "source": [
    "<h1> Train Data - Print Prediction Result </h1>"
   ]
  },
  {
   "cell_type": "code",
   "execution_count": null,
   "metadata": {},
   "outputs": [],
   "source": [
    "print(metrics.confusion_matrix(trainLabel,predictedTrainLabel))\n",
    "print(metrics.accuracy_score(trainLabel, predictedTrainLabel))"
   ]
  },
  {
   "cell_type": "markdown",
   "metadata": {},
   "source": [
    "<h1> Test Data - Load </h1>"
   ]
  },
  {
   "cell_type": "code",
   "execution_count": null,
   "metadata": {},
   "outputs": [],
   "source": [
    "testData = read_csv(\"CencusIncome.csv\", header=None)\n",
    "testLabel = testData.loc[:,6]\n",
    "testLabel, testLabelLevel = testLabel.factorize()\n",
    "testData = testData.drop(6, axis = 1)"
   ]
  },
  {
   "cell_type": "markdown",
   "metadata": {},
   "source": [
    "<h1> Test Data - Preprocess </h1>"
   ]
  },
  {
   "cell_type": "code",
   "execution_count": null,
   "metadata": {},
   "outputs": [],
   "source": [
    "normalizedTest = normalize(testData) "
   ]
  },
  {
   "cell_type": "markdown",
   "metadata": {},
   "source": [
    "<h1> Test Data - Running </h1>"
   ]
  },
  {
   "cell_type": "code",
   "execution_count": null,
   "metadata": {},
   "outputs": [],
   "source": [
    "testResult = k_means(normalizedTest, 2)"
   ]
  },
  {
   "cell_type": "markdown",
   "metadata": {},
   "source": [
    "<h1> Test Data - Prepare Prediction Result </h1>"
   ]
  },
  {
   "cell_type": "code",
   "execution_count": null,
   "metadata": {},
   "outputs": [],
   "source": [
    "predictionTestLabel, predictionTestLabelLevel = DataFrame(testResult[\"prediction\"])[0].factorize()"
   ]
  },
  {
   "cell_type": "markdown",
   "metadata": {},
   "source": [
    "<h1> Test Data - Print Prediction Result </h1>"
   ]
  },
  {
   "cell_type": "code",
   "execution_count": null,
   "metadata": {},
   "outputs": [],
   "source": [
    "print(metrics.confusion_matrix(testLabel,predictionTestLabel))\n",
    "print(metrics.accuracy_score(testLabel, predictionTestLabel))"
   ]
  },
  {
   "cell_type": "markdown",
   "metadata": {},
   "source": [
    "<h1> Benchmarking - Using SKLearn </h1>"
   ]
  },
  {
   "cell_type": "code",
   "execution_count": null,
   "metadata": {},
   "outputs": [],
   "source": [
    "from sklearn import cluster\n",
    "benchmarkTrainResult = cluster.KMeans(n_clusters=2).fit(normalizedTrain)\n",
    "benchmarkTestResult = cluster.KMeans(n_clusters=2).fit(normalizedTest)"
   ]
  },
  {
   "cell_type": "code",
   "execution_count": null,
   "metadata": {},
   "outputs": [],
   "source": [
    "print(metrics.confusion_matrix(testLabel, benchmarkTrainResult.labels_))\n",
    "print(metrics.accuracy_score(testLabel, benchmarkTrainResult.labels_))"
   ]
  },
  {
   "cell_type": "code",
   "execution_count": null,
   "metadata": {},
   "outputs": [],
   "source": [
    "print(metrics.confusion_matrix(testLabel, benchmarkTestResult.labels_))\n",
    "print(metrics.accuracy_score(testLabel, benchmarkTestResult.labels_))"
   ]
  },
  {
   "cell_type": "code",
   "execution_count": null,
   "metadata": {},
   "outputs": [],
   "source": []
  }
 ],
 "metadata": {
  "kernelspec": {
   "display_name": "Python 3",
   "language": "python",
   "name": "python3"
  },
  "language_info": {
   "codemirror_mode": {
    "name": "ipython",
    "version": 3
   },
   "file_extension": ".py",
   "mimetype": "text/x-python",
   "name": "python",
   "nbconvert_exporter": "python",
   "pygments_lexer": "ipython3",
   "version": "3.6.2"
  }
 },
 "nbformat": 4,
 "nbformat_minor": 2
}
