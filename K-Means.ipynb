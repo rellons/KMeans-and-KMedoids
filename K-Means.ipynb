{
 "cells": [
  {
   "cell_type": "markdown",
   "metadata": {},
   "source": [
    "<h1> Import </h1>"
   ]
  },
  {
   "cell_type": "code",
   "execution_count": null,
   "metadata": {},
   "outputs": [],
   "source": [
    "from pandas import read_csv\n",
    "from pandas import DataFrame\n",
    "from math import pow,sqrt\n",
    "import numpy as np\n",
    "import datetime"
   ]
  },
  {
   "cell_type": "markdown",
   "metadata": {},
   "source": [
    "<h1> Preprocessing </h1>"
   ]
  },
  {
   "cell_type": "code",
   "execution_count": null,
   "metadata": {},
   "outputs": [],
   "source": [
    "cencus = read_csv(\"CencusIncome.csv\", header = None)\n",
    "cencusData = cencus.drop(6, axis = 1)\n",
    "cencusData"
   ]
  },
  {
   "cell_type": "code",
   "execution_count": null,
   "metadata": {},
   "outputs": [],
   "source": [
    "def euclidean_distance(instance1,instance2):\n",
    "#     asumsi jumlah tabel sama\n",
    "    columnCount = len(instance1)\n",
    "    sum = 0\n",
    "    for i in range(columnCount):\n",
    "        sum += pow(instance1[i]-instance2[i],2)\n",
    "    return sqrt(sum)\n",
    "\n",
    "def normalize(v):\n",
    "    norm = np.linalg.norm(v)\n",
    "    if norm == 0: \n",
    "       return v\n",
    "    return v / norm"
   ]
  },
  {
   "cell_type": "code",
   "execution_count": null,
   "metadata": {},
   "outputs": [],
   "source": [
    "# print(euclidean_distance(cencusData.loc[1],cencusData.loc[2]))\n",
    "normalizedData = normalize(cencusData) \n",
    "print(normalizedData)"
   ]
  },
  {
   "cell_type": "code",
   "execution_count": null,
   "metadata": {},
   "outputs": [],
   "source": [
    "print(euclidean_distance(normalizedData.loc[1],normalizedData.loc[2]))"
   ]
  },
  {
   "cell_type": "markdown",
   "metadata": {},
   "source": [
    "<h1> Clustering </h1>"
   ]
  },
  {
   "cell_type": "code",
   "execution_count": null,
   "metadata": {},
   "outputs": [],
   "source": [
    "len(normalizedData.index)"
   ]
  },
  {
   "cell_type": "code",
   "execution_count": 250,
   "metadata": {},
   "outputs": [],
   "source": [
    "def classify_k_means(instance, centroids):\n",
    "    rowCount = len(centroids.index)\n",
    "    distances = np.zeros(rowCount)\n",
    "    for index, row in centroids.iterrows():\n",
    "        distances[index] = euclidean_distance(instance,row)\n",
    "    return np.argmin(distances)\n",
    "\n",
    "def k_means(df, k):\n",
    "    rowCount = len(df.index)\n",
    "    colCount = len(df.columns)\n",
    "    centroids = df.sample(k)\n",
    "    centroids = centroids.reset_index(drop=True)\n",
    "    isConvergence = False;\n",
    "    i = 0\n",
    "    \n",
    "    while (not isConvergence):\n",
    "        print()\n",
    "        print(i)\n",
    "        print(datetime.datetime.now())\n",
    "        prev_centroids = centroids.copy()\n",
    "        centroids[:] = 0.0 #Set all to zero\n",
    "        pred = np.zeros(rowCount).astype(int)\n",
    "        countLabel = np.zeros(k).astype(int)\n",
    "        #Classify Each Row and Sum it\n",
    "        for index, row in df.iterrows():\n",
    "            pred[index] = classify_k_means(row, prev_centroids)\n",
    "            countLabel[pred[index]] += 1\n",
    "            for colIndex in range(0,colCount):\n",
    "                centroids.iat[pred[index], colIndex] += row[colIndex]\n",
    "        #Get new centroids (means)\n",
    "        for labelIndex in range(0,k):\n",
    "            for colIndex in range(0,colCount):\n",
    "                centroids.iat[labelIndex, colIndex] /= countLabel[labelIndex]\n",
    "        #Check convergence by comparing centroids\n",
    "        convergeCheck = np.isclose(prev_centroids, centroids)\n",
    "        print(prev_centroids)\n",
    "        print(centroids)\n",
    "        print(countLabel)\n",
    "        if (convergeCheck.all()):\n",
    "            isConvergence = True\n",
    "        i+=1\n",
    "    return {0: pred,1: centroids}"
   ]
  },
  {
   "cell_type": "code",
   "execution_count": null,
   "metadata": {},
   "outputs": [
    {
     "name": "stdout",
     "output_type": "stream",
     "text": [
      "\n",
      "0\n",
      "2017-12-01 20:44:10.632735\n",
      "              0         1             2    3    4             5\n",
      "0  8.926727e-07  0.004240  2.550493e-07  0.0  0.0  7.651480e-07\n",
      "1  1.071207e-06  0.007271  3.315641e-07  0.0  0.0  1.147722e-06\n",
      "              0         1             2         3         4         5\n",
      "0  9.994933e-07  0.003549  2.589613e-07  0.000028  0.000002  0.000001\n",
      "1  9.445888e-07  0.008132  2.523807e-07  0.000026  0.000002  0.000001\n",
      "[23386  9175]\n",
      "\n",
      "1\n",
      "2017-12-01 20:44:25.076927\n",
      "              0         1             2         3         4         5\n",
      "0  9.994933e-07  0.003549  2.589613e-07  0.000028  0.000002  0.000001\n",
      "1  9.445888e-07  0.008132  2.523807e-07  0.000026  0.000002  0.000001\n",
      "              0         1             2         3         4         5\n",
      "0  9.989845e-07  0.003579  2.588884e-07  0.000028  0.000002  0.000001\n",
      "1  9.439791e-07  0.008216  2.523396e-07  0.000027  0.000002  0.000001\n",
      "[23704  8857]\n",
      "\n",
      "2\n",
      "2017-12-01 20:44:39.458319\n",
      "              0         1             2         3         4         5\n",
      "0  9.989845e-07  0.003579  2.588884e-07  0.000028  0.000002  0.000001\n",
      "1  9.439791e-07  0.008216  2.523396e-07  0.000027  0.000002  0.000001\n",
      "              0         1             2         3         4         5\n",
      "0  9.987267e-07  0.003599  2.588063e-07  0.000028  0.000002  0.000001\n",
      "1  9.433818e-07  0.008272  2.524107e-07  0.000026  0.000002  0.000001\n",
      "[23910  8651]\n",
      "\n",
      "3\n",
      "2017-12-01 20:44:53.863957\n",
      "              0         1             2         3         4         5\n",
      "0  9.987267e-07  0.003599  2.588063e-07  0.000028  0.000002  0.000001\n",
      "1  9.433818e-07  0.008272  2.524107e-07  0.000026  0.000002  0.000001\n",
      "              0         1             2         3         4         5\n",
      "0  9.986644e-07  0.003609  2.587696e-07  0.000028  0.000002  0.000001\n",
      "1  9.428313e-07  0.008303  2.524298e-07  0.000027  0.000002  0.000001\n",
      "[24022  8539]\n",
      "\n",
      "4\n",
      "2017-12-01 20:45:08.265269\n",
      "              0         1             2         3         4         5\n",
      "0  9.986644e-07  0.003609  2.587696e-07  0.000028  0.000002  0.000001\n",
      "1  9.428313e-07  0.008303  2.524298e-07  0.000027  0.000002  0.000001\n",
      "              0         1             2         3         4         5\n",
      "0  9.987421e-07  0.003616  2.587496e-07  0.000028  0.000002  0.000001\n",
      "1  9.421621e-07  0.008322  2.524359e-07  0.000027  0.000002  0.000001\n",
      "[24090  8471]\n",
      "\n",
      "5\n",
      "2017-12-01 20:45:22.563079\n",
      "              0         1             2         3         4         5\n",
      "0  9.987421e-07  0.003616  2.587496e-07  0.000028  0.000002  0.000001\n",
      "1  9.421621e-07  0.008322  2.524359e-07  0.000027  0.000002  0.000001\n",
      "              0         1             2         3         4         5\n",
      "0  9.986292e-07  0.003620  2.587462e-07  0.000028  0.000002  0.000001\n",
      "1  9.421967e-07  0.008334  2.524135e-07  0.000027  0.000002  0.000001\n",
      "[24133  8428]\n",
      "\n",
      "6\n",
      "2017-12-01 20:45:37.005031\n",
      "              0         1             2         3         4         5\n",
      "0  9.986292e-07  0.003620  2.587462e-07  0.000028  0.000002  0.000001\n",
      "1  9.421967e-07  0.008334  2.524135e-07  0.000027  0.000002  0.000001\n",
      "              0         1             2         3         4         5\n",
      "0  9.986501e-07  0.003623  2.587389e-07  0.000028  0.000002  0.000001\n",
      "1  9.419551e-07  0.008342  2.524141e-07  0.000027  0.000002  0.000001\n",
      "[24160  8401]\n",
      "\n",
      "7\n",
      "2017-12-01 20:45:51.297871\n",
      "              0         1             2         3         4         5\n",
      "0  9.986501e-07  0.003623  2.587389e-07  0.000028  0.000002  0.000001\n",
      "1  9.419551e-07  0.008342  2.524141e-07  0.000027  0.000002  0.000001\n",
      "              0         1             2         3         4         5\n",
      "0  9.985220e-07  0.003624  2.587280e-07  0.000028  0.000002  0.000001\n",
      "1  9.422164e-07  0.008346  2.524334e-07  0.000027  0.000002  0.000001\n",
      "[24176  8385]\n",
      "\n",
      "8\n",
      "2017-12-01 20:46:05.643644\n",
      "              0         1             2         3         4         5\n",
      "0  9.985220e-07  0.003624  2.587280e-07  0.000028  0.000002  0.000001\n",
      "1  9.422164e-07  0.008346  2.524334e-07  0.000027  0.000002  0.000001\n",
      "              0         1             2         3         4         5\n",
      "0  9.983319e-07  0.003626  2.587141e-07  0.000028  0.000002  0.000001\n",
      "1  9.426648e-07  0.008350  2.524623e-07  0.000027  0.000002  0.000001\n",
      "[24191  8370]\n",
      "\n",
      "9\n",
      "2017-12-01 20:46:20.151247\n",
      "              0         1             2         3         4         5\n",
      "0  9.983319e-07  0.003626  2.587141e-07  0.000028  0.000002  0.000001\n",
      "1  9.426648e-07  0.008350  2.524623e-07  0.000027  0.000002  0.000001\n",
      "              0         1             2         3         4         5\n",
      "0  9.983676e-07  0.003627  2.587045e-07  0.000028  0.000002  0.000001\n",
      "1  9.425083e-07  0.008353  2.524842e-07  0.000027  0.000002  0.000001\n",
      "[24199  8362]\n",
      "\n",
      "10\n",
      "2017-12-01 20:46:34.829821\n",
      "              0         1             2         3         4         5\n",
      "0  9.983676e-07  0.003627  2.587045e-07  0.000028  0.000002  0.000001\n",
      "1  9.425083e-07  0.008353  2.524842e-07  0.000027  0.000002  0.000001\n",
      "              0         1             2         3         4         5\n",
      "0  9.983522e-07  0.003627  2.587081e-07  0.000028  0.000002  0.000001\n",
      "1  9.425260e-07  0.008354  2.524708e-07  0.000027  0.000002  0.000001\n",
      "[24203  8358]\n",
      "\n",
      "11\n",
      "2017-12-01 20:46:49.840477\n",
      "              0         1             2         3         4         5\n",
      "0  9.983522e-07  0.003627  2.587081e-07  0.000028  0.000002  0.000001\n",
      "1  9.425260e-07  0.008354  2.524708e-07  0.000027  0.000002  0.000001\n",
      "              0         1             2         3         4         5\n",
      "0  9.984245e-07  0.003627  2.587129e-07  0.000028  0.000002  0.000001\n",
      "1  9.422966e-07  0.008355  2.524546e-07  0.000027  0.000002  0.000001\n",
      "[24206  8355]\n",
      "\n",
      "12\n",
      "2017-12-01 20:47:04.756030\n",
      "              0         1             2         3         4         5\n",
      "0  9.984245e-07  0.003627  2.587129e-07  0.000028  0.000002  0.000001\n",
      "1  9.422966e-07  0.008355  2.524546e-07  0.000027  0.000002  0.000001\n",
      "              0         1             2         3         4         5\n",
      "0  9.983914e-07  0.003628  2.587114e-07  0.000028  0.000002  0.000001\n",
      "1  9.423725e-07  0.008355  2.524567e-07  0.000027  0.000002  0.000001\n",
      "[24209  8352]\n",
      "\n",
      "13\n",
      "2017-12-01 20:47:19.565083\n",
      "              0         1             2         3         4         5\n",
      "0  9.983914e-07  0.003628  2.587114e-07  0.000028  0.000002  0.000001\n",
      "1  9.423725e-07  0.008355  2.524567e-07  0.000027  0.000002  0.000001\n"
     ]
    }
   ],
   "source": [
    "tmp = k_means(normalizedData, 2)"
   ]
  },
  {
   "cell_type": "code",
   "execution_count": null,
   "metadata": {},
   "outputs": [],
   "source": []
  }
 ],
 "metadata": {
  "kernelspec": {
   "display_name": "Python 3",
   "language": "python",
   "name": "python3"
  },
  "language_info": {
   "codemirror_mode": {
    "name": "ipython",
    "version": 3
   },
   "file_extension": ".py",
   "mimetype": "text/x-python",
   "name": "python",
   "nbconvert_exporter": "python",
   "pygments_lexer": "ipython3",
   "version": "3.6.2"
  }
 },
 "nbformat": 4,
 "nbformat_minor": 2
}
